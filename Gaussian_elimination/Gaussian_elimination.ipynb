{
  "nbformat": 4,
  "nbformat_minor": 0,
  "metadata": {
    "colab": {
      "name": "Gaussian_elimination.ipynb",
      "provenance": [],
      "collapsed_sections": []
    },
    "kernelspec": {
      "name": "python3",
      "display_name": "Python 3"
    },
    "language_info": {
      "name": "python"
    }
  },
  "cells": [
    {
      "cell_type": "markdown",
      "source": [
        "###Matplotlib exercise\n"
      ],
      "metadata": {
        "id": "pIuaUrZU8Yom"
      }
    },
    {
      "cell_type": "code",
      "source": [
        "import matplotlib.pyplot as plt\n",
        "import requests\n",
        "import numpy as np\n",
        "\n",
        "\n",
        "def downloadfile(url, fileName):\n",
        "    req = requests.get(url, stream=True)\n",
        "    with open(fileName, 'wb') as handler:\n",
        "        for chunk in req.iter_content():\n",
        "            handler.write(chunk)\n",
        "\n",
        "fileNames = ['Crime_Data_from_2010_small.csv']\n",
        "for name in fileNames:\n",
        "  downloadfile(\"https://raw.githubusercontent.com/BartekGRK/Python_data_analysis/master/Gaussian_elimination/\"+name, name)"
      ],
      "metadata": {
        "id": "8OqYvqP096l0"
      },
      "execution_count": 21,
      "outputs": []
    },
    {
      "cell_type": "code",
      "source": [
        "import csv\n",
        "with open('Crime_Data_from_2010_small.csv') as f:\n",
        "  reader = csv.reader(f, delimiter=',')\n",
        "  firstrow = next(reader)\n",
        "  hours = []\n",
        "  for row in reader:\n",
        "    hours.append(int(row[3][:2]))\n",
        "\n",
        "plt.subplots(1,1, dpi=100)\n",
        "plt.hist(hours, bins=12, width=1.6)\n",
        "plt.xticks(np.arange(1,24,2));"
      ],
      "metadata": {
        "colab": {
          "base_uri": "https://localhost:8080/",
          "height": 362
        },
        "id": "r2lOemJP8aAc",
        "outputId": "826c57c3-f23c-4bd2-b6ad-866594b4c263"
      },
      "execution_count": 17,
      "outputs": [
        {
          "output_type": "display_data",
          "data": {
            "text/plain": [
              "<Figure size 600x400 with 1 Axes>"
            ],
            "image/png": "[encoded data removed]"
          },
          "metadata": {
            "needs_background": "light"
          }
        }
      ]
    },
    {
      "cell_type": "code",
      "source": [
        "import collections\n",
        "cnt = collections.Counter(hours)\n",
        "\n",
        "\n",
        "max_val = cnt.get(max(cnt, key=cnt.get))\n",
        "\n",
        "plt.scatter(cnt.keys(),cnt.values())\n",
        "\n",
        "plt.annotate(f'The maximum value: {max_val}', xytext=(3,160),xy=(19, 171),\n",
        "            arrowprops=dict(arrowstyle=\"->\",lw=2))"
      ],
      "metadata": {
        "colab": {
          "base_uri": "https://localhost:8080/",
          "height": 283
        },
        "id": "Am6KBGY_8nF3",
        "outputId": "f6acddb1-9e6f-4025-81cd-01f69cbf87f0"
      },
      "execution_count": 18,
      "outputs": [
        {
          "output_type": "execute_result",
          "data": {
            "text/plain": [
              "Text(3, 160, 'The maximum value: 171')"
            ]
          },
          "metadata": {},
          "execution_count": 18
        },
        {
          "output_type": "display_data",
          "data": {
            "text/plain": [
              "<Figure size 432x288 with 1 Axes>"
            ],
            "image/png": "[encoded data removed]"
          },
          "metadata": {
            "needs_background": "light"
          }
        }
      ]
    },
    {
      "cell_type": "markdown",
      "source": [
        "### Implementation a Gaussian elimination algorithm with a function taking two arguments: A - the matrix, b - right hand side vector"
      ],
      "metadata": {
        "id": "Lmkr9dAVG7V9"
      }
    },
    {
      "cell_type": "code",
      "source": [
        "def gaussian(A,b):\n",
        "  Ag = np.concatenate([A, b[:,None]],axis = 1)\n",
        "  for c in range(A.shape[1]-1):\n",
        "    for r in range (c+1,A.shape[0]):\n",
        "      Ag[r,:] -= Ag[c,:]* Ag[r,c]/Ag[c,c]\n",
        "      \n",
        "  return Ag\n",
        "\n",
        "def back(U,c):\n",
        "\n",
        "  x = np.zeros(c.shape)\n",
        "  for i in np.arange(c.shape[0]-1,-1,-1):\n",
        "\n",
        "    s = x[i+1:] @ U[i,i+1:]\n",
        "    x[i]= (c[i] - s)/ U[i,i]\n",
        "  return x\n"
      ],
      "metadata": {
        "id": "62Ps5ovqH9h7"
      },
      "execution_count": 19,
      "outputs": []
    },
    {
      "cell_type": "code",
      "source": [
        "\n",
        "A = np.arange(1, 17, dtype=np.float64).reshape(4,4)\n",
        "A[1,2] = 88\n",
        "A[1,3] = -3\n",
        "A[2,3] = -3\n",
        "print(f'A = {A}')\n",
        "\n",
        "x = np.ones(A.shape[0])\n",
        "print(f'Original x = {x}')\n",
        "b = A  @ x.T\n",
        "print(f'Right hand side for testing: b = {b}')\n",
        "\n",
        "\n",
        "Ae = gaussian(A, b)\n",
        "print(f'Check if A was unchanged ')\n",
        "print(f'Eliminated augmented matrix:\\n {Ae}')\n",
        "print(f'Eliminated augmented matrix A part: {Ae[:,:-1]}')\n",
        "print(f'Eliminated augmented matrix b part: {Ae[:,Ae.shape[1]-1]}')\n",
        "\n",
        "# Find solution\n",
        "x = back(Ae[:,:-1],Ae[:,Ae.shape[1]-1])\n",
        "print(f'Solution: {x}')"
      ],
      "metadata": {
        "colab": {
          "base_uri": "https://localhost:8080/"
        },
        "id": "9R9mSX-SD4QG",
        "outputId": "6b566cf9-f0f0-4a11-b19d-d8dafa47ee6a"
      },
      "execution_count": 20,
      "outputs": [
        {
          "output_type": "stream",
          "name": "stdout",
          "text": [
            "A = [[ 1.  2.  3.  4.]\n",
            " [ 5.  6. 88. -3.]\n",
            " [ 9. 10. 11. -3.]\n",
            " [13. 14. 15. 16.]]\n",
            "Original x = [1. 1. 1. 1.]\n",
            "Right hand side for testing: b = [10. 96. 27. 58.]\n",
            "Check if A was unchanged \n",
            "Eliminated augmented matrix:\n",
            " [[   1.     2.     3.     4.    10. ]\n",
            " [   0.    -4.    73.   -23.    46. ]\n",
            " [   0.     0.  -162.     7.  -155. ]\n",
            " [   0.     0.     0.    22.5   22.5]]\n",
            "Eliminated augmented matrix A part: [[   1.     2.     3.     4. ]\n",
            " [   0.    -4.    73.   -23. ]\n",
            " [   0.     0.  -162.     7. ]\n",
            " [   0.     0.     0.    22.5]]\n",
            "Eliminated augmented matrix b part: [  10.    46.  -155.    22.5]\n",
            "Solution: [1. 1. 1. 1.]\n"
          ]
        }
      ]
    }
  ]
}